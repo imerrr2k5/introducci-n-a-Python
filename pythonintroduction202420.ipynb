{
  "nbformat": 4,
  "nbformat_minor": 0,
  "metadata": {
    "colab": {
      "provenance": [],
      "authorship_tag": "ABX9TyPmAGWmq+Hy4G1eHSK3Sk9y",
      "include_colab_link": true
    },
    "kernelspec": {
      "name": "python3",
      "display_name": "Python 3"
    },
    "language_info": {
      "name": "python"
    }
  },
  "cells": [
    {
      "cell_type": "markdown",
      "metadata": {
        "id": "view-in-github",
        "colab_type": "text"
      },
      "source": [
        "<a href=\"https://colab.research.google.com/github/imerrr2k5/introducci-n-a-Python/blob/main/pythonintroduction202420.ipynb\" target=\"_parent\"><img src=\"https://colab.research.google.com/assets/colab-badge.svg\" alt=\"Open In Colab\"/></a>"
      ]
    },
    {
      "cell_type": "code",
      "source": [
        "# Mis primeros pasos\n",
        "\n",
        "print(\"Hola mundo\")\n",
        "\n",
        "name = \"Imer\"\n",
        "age = 19\n",
        "city = \"monrteria\"\n",
        "\n",
        "print(\"mi nombre es\", name, \"tengo\", age, \"años y vivo en\", city)\n",
        "\n",
        "# numeros\n",
        "a = 10\n",
        "b = 2.5\n",
        "c = a + b\n",
        "print(c)\n",
        "\n",
        "# tipo de datos\n",
        "print(type(a))\n",
        "print(type(b))\n",
        "print(type(c))"
      ],
      "metadata": {
        "colab": {
          "base_uri": "https://localhost:8080/"
        },
        "id": "6tb0nl9buFGZ",
        "outputId": "682a45ae-9ec5-4e01-917c-5bcfba9f4d7c"
      },
      "execution_count": 14,
      "outputs": [
        {
          "output_type": "stream",
          "name": "stdout",
          "text": [
            "Hola mundo\n",
            "mi nombre es Imer tengo 19 años y vivo en monrteria\n",
            "12.5\n",
            "<class 'int'>\n",
            "<class 'float'>\n",
            "<class 'float'>\n"
          ]
        }
      ]
    },
    {
      "cell_type": "code",
      "source": [
        "# operaciones matematicas basicas\n",
        "\n",
        "print(3 + 2) # suma\n",
        "print(3 - 2) # resta\n",
        "print(3 * 2) # multiplicacion\n",
        "print(3 / 2) # division\n",
        "print(3 % 2) # modulo\n",
        "print(3 ** 2) # potencia\n",
        "print(3 // 2) # division entera\n",
        "print(4** 0.5) # raiz cuadrada"
      ],
      "metadata": {
        "colab": {
          "base_uri": "https://localhost:8080/"
        },
        "outputId": "492b1b0d-db74-45d2-b595-64ea0bae90c2",
        "id": "dUi3YsXaz1kp"
      },
      "execution_count": 19,
      "outputs": [
        {
          "output_type": "stream",
          "name": "stdout",
          "text": [
            "5\n",
            "1\n",
            "6\n",
            "1.5\n",
            "1\n",
            "9\n",
            "1\n",
            "2.0\n"
          ]
        }
      ]
    },
    {
      "cell_type": "code",
      "source": [
        "# concatenacion\n",
        "\n",
        "name = \"Imer\"\n",
        "lastname = \"Guevara\"\n",
        "fullname = name + \" \" + lastname\n",
        "print(\"-\" * 50)\n",
        "print((fullname + ' ')* 3)\n",
        "print(\"-\" * 50)"
      ],
      "metadata": {
        "colab": {
          "base_uri": "https://localhost:8080/"
        },
        "id": "MjQByUp-1N09",
        "outputId": "7d8eb71e-db23-445f-cdca-70c98728fa40"
      },
      "execution_count": 27,
      "outputs": [
        {
          "output_type": "stream",
          "name": "stdout",
          "text": [
            "--------------------------------------------------\n",
            "Imer Guevara Imer Guevara Imer Guevara \n",
            "--------------------------------------------------\n"
          ]
        }
      ]
    },
    {
      "cell_type": "code",
      "source": [
        "# incrementos\n",
        "\n",
        "a = 20\n",
        "print(\"a =\", a)\n",
        "b = 10\n",
        "a += b\n",
        "print(\"a =\", a)\n",
        "a -= b\n",
        "print(\"a =\", a)\n",
        "a *= b\n",
        "print(\"a =\", a)\n",
        "a /= b\n",
        "print(\"a =\", a)"
      ],
      "metadata": {
        "colab": {
          "base_uri": "https://localhost:8080/"
        },
        "id": "2AJHizIr23Bi",
        "outputId": "f552a121-8484-4b80-bdc2-cd70527c08d1"
      },
      "execution_count": 30,
      "outputs": [
        {
          "output_type": "stream",
          "name": "stdout",
          "text": [
            "a = 20\n",
            "a = 30\n",
            "a = 20\n",
            "a = 200\n",
            "a = 20.0\n"
          ]
        }
      ]
    },
    {
      "cell_type": "code",
      "source": [
        "# multi-line\n",
        "\n",
        "song = \"\"\"\n",
        "Anoche soñé que estábamos los dos\n",
        "Nos dábamos amor y hasta sentí su respiración\n",
        "Y el aroma del perfume de tu piel\n",
        "Pero todo era un sueño y se acabo\n",
        "Y al despertar no la encontré me entristecí y hasta llore\n",
        "Tan solo vi en la pared la foto de los dos\n",
        "Y me invadieron los recuerdos y los más bellos momentos\n",
        "El amor es un misterio yo no entiendo la razón\n",
        "Si me juro que volvería me iba amar toda la vida\n",
        "Se ha marchado pero nunca\n",
        "Regreso\n",
        "\"\"\"\n",
        "\n",
        "print(song)"
      ],
      "metadata": {
        "colab": {
          "base_uri": "https://localhost:8080/"
        },
        "id": "mNzXLs3v4SV3",
        "outputId": "f8ee9987-6cd1-42b0-ab41-12301ed22d55"
      },
      "execution_count": 31,
      "outputs": [
        {
          "output_type": "stream",
          "name": "stdout",
          "text": [
            "\n",
            "Anoche soñé que estábamos los dos\n",
            "Nos dábamos amor y hasta sentí su respiración\n",
            "Y el aroma del perfume de tu piel\n",
            "Pero todo era un sueño y se acabo\n",
            "Y al despertar no la encontré me entristecí y hasta llore\n",
            "Tan solo vi en la pared la foto de los dos\n",
            "Y me invadieron los recuerdos y los más bellos momentos\n",
            "El amor es un misterio yo no entiendo la razón\n",
            "Si me juro que volvería me iba amar toda la vida\n",
            "Se ha marchado pero nunca\n",
            "Regreso\n",
            "\n"
          ]
        }
      ]
    },
    {
      "cell_type": "code",
      "source": [
        "# entradas de usuario\n",
        "\n",
        "a = int(input(\"Ingrese el primer numero: \"))\n",
        "b = int(input(\"Ingrese el segundo numero: \"))\n",
        "# a = float(input(\"ingrese el primer numero\"))\n",
        "# b = float(input(\"ingrese el segundo numero\"))\n",
        "# a = 3\n",
        "# b = 5\n",
        "print(a + b)"
      ],
      "metadata": {
        "colab": {
          "base_uri": "https://localhost:8080/"
        },
        "id": "vLprA8sD5xoN",
        "outputId": "74b3fb6b-b100-40a5-eb69-fcbb8e8d35c7"
      },
      "execution_count": 32,
      "outputs": [
        {
          "output_type": "stream",
          "name": "stdout",
          "text": [
            "Ingrese el primer numero: 4\n",
            "Ingrese el segundo numero: 5\n",
            "9\n"
          ]
        }
      ]
    },
    {
      "cell_type": "markdown",
      "source": [
        "# Mis apunte de python\n",
        "\n",
        "### Fundamentos de programacion 202420\n",
        "\n",
        "**nombre: ** imer guevara\n",
        "\n",
        "__email:__ imer.guevara@gmail.edu.co\n",
        "\n",
        "*fecha de creacion: * 20 de agosto, 2024"
      ],
      "metadata": {
        "id": "YrZHnGF7s6Il"
      }
    }
  ]
}