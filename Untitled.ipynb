{
  "nbformat": 4,
  "nbformat_minor": 0,
  "metadata": {
    "colab": {
      "provenance": [],
      "authorship_tag": "ABX9TyPkFrpKczNS52dY3YGzBCHK",
      "include_colab_link": true
    },
    "kernelspec": {
      "name": "python3",
      "display_name": "Python 3"
    },
    "language_info": {
      "name": "python"
    }
  },
  "cells": [
    {
      "cell_type": "markdown",
      "metadata": {
        "id": "view-in-github",
        "colab_type": "text"
      },
      "source": [
        "<a href=\"https://colab.research.google.com/github/imerrr2k5/introducci-n-a-Python/blob/main/Untitled.ipynb\" target=\"_parent\"><img src=\"https://colab.research.google.com/assets/colab-badge.svg\" alt=\"Open In Colab\"/></a>"
      ]
    },
    {
      "cell_type": "code",
      "execution_count": null,
      "metadata": {
        "id": "bYNncpspLeeA"
      },
      "outputs": [],
      "source": []
    },
    {
      "cell_type": "markdown",
      "source": [],
      "metadata": {
        "id": "1jGIJnV_Le1F"
      }
    },
    {
      "cell_type": "markdown",
      "source": [
        "algoritmo problema #1 : calculo de la factura de energia electrica\n",
        "\n",
        "1. iniciar\n",
        "2. declarar la variable total a pagar de factura, total consumo basico, subsidio, contribucion y subtotal\n",
        "3. obtener el consumo de kwh en el mes, el costo por kwh, el estrato (1-7, siendo 7 un usuario comercial) y la altitud sobre el nivel del mar\n",
        "4. si el estrato es 1, el subsidio es de 0.6 sobre kwh; si el estrato es 2, el subsidio es de 0.5 sobre kwh; si el estrato es de 3, el subsidio es de 0.15 sobre kwh; si el estrato es 0, no hay subsidio ni contribucion; si el estrato es 5, 6 o 7, el subsidio es de 0.2 sobre kwh; si la altura > 1000 y el estrato es de 1, 2 y 3, el consumo basico de subsidio es hasta 130 kwh, luego se subsidia el consumo adicional; de lo contrario, el consumo basico es hasta 173 kwh y luego el consumo adicional.\n",
        "5. se calcula el total del consumo (consumo * costo_kwh), se calcula el total del subsidio (consumo - consumoBasico(175 o 130) * costo_kwh), se calcula el total sumando consumo basico + consumo adicional - subsidio + contribucion.\n",
        "6. finalizar"
      ],
      "metadata": {
        "id": "2SSwBF6SLh9G"
      }
    },
    {
      "cell_type": "markdown",
      "source": [
        "```\n",
        "Pseudocodigo\n",
        "program calculoFacturaEnergia\n",
        "//programa para calcular el costo de la factura de energia en el mes\n",
        "\n",
        "star\n",
        "//\n",
        "Declare variables\n",
        "Declare integer consumo\n",
        "Declare float costo_kWh\n",
        "Declare integer estrato\n",
        "Declare integer altitud\n",
        "Declare float totalFactura\n",
        "Declare float consumoBasico\n",
        "Declare float consumoAdicional\n",
        "Declare float contribucion\n",
        "Declare float subtotal\n",
        "\n",
        "// obtener variables\n",
        "Display \"ingrese los kWh consumidos en el mes: \"\n",
        "input consumo\n",
        "Display \"ingrese el costo por kWh del mes: \"\n",
        "input costo_kWh\n",
        "Display \"ingrese su estrato (1 - 7, siendo usuario comercial) : \"\n",
        "input estrato\n",
        "Display \"ingrese altura sobre el nivel del mar: \"\n",
        "input altitud\n",
        "\n",
        "// determinar el consumo basico segun la altitud\n",
        "if altitud >= 1000 then\n",
        "  set consumoBasico = 130\n",
        "else\n",
        "  set consumoBasico = 173\n",
        "end if\n",
        "\n",
        "//calcular el costo total por el consumo\n",
        "  if totalConsumo\n",
        "else\n",
        "  set totalConsumo = consumo * costo_kWh\n",
        "end if\n",
        "\n",
        "//calcular el subsidio segun el estrato\n",
        "if estrato >= 1 then\n",
        "  set subsidio = consumoBasico * costo_kWh * 0.60\n",
        "else if estrato = 2 then\n",
        "  set subsidio = consumoBasico * costo_kWh * 0.50\n",
        "else if estrato = 3 then\n",
        "  set subsidio = consumoBasico * costo_kWh * 0.15\n",
        "else\n",
        "  subsidio = 0\n",
        "\n",
        "end if\n",
        "\n",
        "//calcular el consumo adicional\n",
        "if consumo > consumoBasico then\n",
        "  set consumoAdicional = (consumo - consumoBasico) * costo_kWh\n",
        "else\n",
        "  consumoAdicional = 0\n",
        "end if\n",
        "\n",
        "//calcular la contribusion segun el estrato\n",
        "if estrato >= 2 or  estrato = 7 then\n",
        "  set contribucion = totalConsumo * 0.20\n",
        "else\n",
        "  contribucion = 0\n",
        "end if\n",
        "\n",
        "// calcular el subtotal\n",
        "if subtotal\n",
        "\n",
        "else\n",
        "  set subtotal = totalConsumo - subsidio + contribucion\n",
        "\n",
        "end if\n",
        "\n",
        "//calcular el total de la factura\n",
        "if totalFactura\n",
        "\n",
        "else\n",
        "  set totalFactura = subtotal\n",
        "end if\n",
        "\n",
        "//mostrar resultados\n",
        "Display \"consumo: \"\n",
        "Display \"costo kwh: \"\n",
        "Display \"estrato: \"\n",
        "Display \"consumoBasico: \"\n",
        "Display \"consumoBasico * costo_kWh: \"\n",
        "Display \"consumoAdicional: \"\n",
        "Display \"contibución: \"\n",
        "Display \"elcostototaldelafacturaes: \", totalFactura\n",
        "\n",
        "End\n",
        "\n",
        "```"
      ],
      "metadata": {
        "id": "ZLZoqPlUL9I9"
      }
    },
    {
      "cell_type": "code",
      "source": [
        "consumo = int(input(\"ingrese los kWh consumidos en el mes: \"))\n",
        "costo_kwh = float(input(\"ingrese el costo por kWh del mes: \"))\n",
        "estrato = int(input(\"ingrese su estrato (1 - 7, siendo usuario comercial) : \"))\n",
        "altitud = int(input(\"ingrese altura sobre el nivel del mar: \"))\n",
        "\n",
        "# calcular el consumo basico segun altitud\n",
        "if altitud >= 1000:\n",
        "    consumoBasico = 130\n",
        "else:\n",
        "    consumoBasico = 173\n",
        "\n",
        "totalConsumo = consumo * costo_kwh\n",
        "\n",
        "# calcular el subsidio segun el estrato\n",
        "if estrato == 1:\n",
        "    subsidio = consumoBasico * costo_kwh * 0.60\n",
        "elif estrato == 2:\n",
        "  subsidio = consumoBasico * costo_kwh * 0.50\n",
        "elif estrato == 3:\n",
        "  subsidio = consumoBasico * costo_kwh * 0.15\n",
        "else:\n",
        "  subsidio = 0\n",
        "\n",
        "# calcular el consumo adicional\n",
        "if consumo > consumoBasico:\n",
        "  consumoAdicional = (consumo - consumoBasico) * costo_kwh\n",
        "else:\n",
        "  consumoAdicional = 0\n",
        "\n",
        "# calcular la contribucion segun el estrato\n",
        "if estrato >= 2 or  estrato == 7:\n",
        "  contribucion = totalConsumo * 0.20\n",
        "else:\n",
        "  contribucion = 0\n",
        "\n",
        "# calcular del total\n",
        "totalFactura = consumoBasico + consumoAdicional - subsidio + contribucion\n",
        "\n",
        "# mostrar resultados\n",
        "print(\"consumo: \", consumo)\n",
        "print(\"costo por kWh: $\", costo_kwh)\n",
        "print(\"estrato: \", estrato)\n",
        "print(\"consumo basico: \", consumoBasico * costo_kwh)\n",
        "print(\"consumo adicional: $\", consumoAdicional)\n",
        "print(\"subsidio: $\", subsidio)\n",
        "print(\"contribucion: $\", contribucion)\n",
        "print(\"el costo total de la factura es de : $\", totalFactura)\n"
      ],
      "metadata": {
        "colab": {
          "base_uri": "https://localhost:8080/"
        },
        "id": "bH2G5MO9L7CK",
        "outputId": "4e24a7eb-5e14-4e6a-974d-2ae6d6775521"
      },
      "execution_count": 6,
      "outputs": [
        {
          "output_type": "stream",
          "name": "stdout",
          "text": [
            "ingrese los kWh consumidos en el mes: 200\n",
            "ingrese el costo por kWh del mes: 1000\n",
            "ingrese su estrato (1 - 7, siendo usuario comercial) : 4\n",
            "ingrese altura sobre el nivel del mar: 18\n",
            "consumo:  200\n",
            "costo por kWh: $ 1000.0\n",
            "estrato:  4\n",
            "consumo basico:  173000.0\n",
            "consumo adicional: $ 27000.0\n",
            "subsidio: $ 0\n",
            "contribucion: $ 40000.0\n",
            "el costo total de la factura es de : $ 67173.0\n"
          ]
        }
      ]
    },
    {
      "cell_type": "code",
      "source": [],
      "metadata": {
        "id": "_thQw9xAZfIf"
      },
      "execution_count": null,
      "outputs": []
    }
  ]
}